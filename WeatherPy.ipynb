{
 "cells": [
  {
   "cell_type": "markdown",
   "metadata": {},
   "source": [
    "# WeatherPy\n",
    "----\n",
    "\n",
    "#### Note\n",
    "* Instructions have been included for each segment. You do not have to follow them exactly, but they are included to help you think through the steps."
   ]
  },
  {
   "cell_type": "code",
   "execution_count": 76,
   "metadata": {
    "scrolled": true
   },
   "outputs": [],
   "source": [
    "# Dependencies and Setup\n",
    "import matplotlib.pyplot as plt\n",
    "import matplotlib\n",
    "import pandas as pd\n",
    "import numpy as np\n",
    "import requests\n",
    "import time\n",
    "from scipy.stats import linregress\n",
    "import requests\n",
    "import json\n",
    "from pprint import pprint\n",
    "import time\n",
    "from datetime import datetime\n",
    "\n",
    "# Import API key\n",
    "from config import OWM_API_key\n",
    "\n",
    "# Incorporated citipy to determine city based on latitude and longitude\n",
    "from citipy import citipy\n",
    "\n",
    "# Output File (CSV)\n",
    "output_data_file = \"output_data/cities.csv\"\n",
    "\n",
    "# Range of latitudes and longitudes\n",
    "lat_range = (-90, 90)\n",
    "lng_range = (-180, 180)"
   ]
  },
  {
   "cell_type": "markdown",
   "metadata": {},
   "source": [
    "## Generate Cities List"
   ]
  },
  {
   "cell_type": "code",
   "execution_count": 2,
   "metadata": {},
   "outputs": [
    {
     "data": {
      "text/plain": [
       "612"
      ]
     },
     "execution_count": 2,
     "metadata": {},
     "output_type": "execute_result"
    }
   ],
   "source": [
    "# List for holding lat_lngs and cities\n",
    "lat_lngs = []\n",
    "cities = []\n",
    "\n",
    "# Create a set of random lat and lng combinations\n",
    "lats = np.random.uniform(low=-90.000, high=90.000, size=1500)\n",
    "lngs = np.random.uniform(low=-180.000, high=180.000, size=1500)\n",
    "lat_lngs = zip(lats, lngs)\n",
    "\n",
    "# Identify nearest city for each lat, lng combination\n",
    "for lat_lng in lat_lngs:\n",
    "    city = citipy.nearest_city(lat_lng[0], lat_lng[1]).city_name\n",
    "    \n",
    "    # If the city is unique, then add it to a our cities list\n",
    "    if city not in cities:\n",
    "        cities.append(city)\n",
    "\n",
    "# Print the city count to confirm sufficient count\n",
    "len(cities)"
   ]
  },
  {
   "cell_type": "markdown",
   "metadata": {},
   "source": [
    "### Perform API Calls\n",
    "* Perform a weather check on each city using a series of successive API calls.\n",
    "* Include a print log of each city as it'sbeing processed (with the city number and city name).\n"
   ]
  },
  {
   "cell_type": "code",
   "execution_count": 3,
   "metadata": {},
   "outputs": [],
   "source": [
    "url = \"http://api.openweathermap.org/data/2.5/weather?\"\n",
    "units = \"metric\"\n",
    "\n",
    "# Build partial query URL\n",
    "query_url = f\"{url}appid={OWM_API_key}&units={units}&q=\""
   ]
  },
  {
   "cell_type": "code",
   "execution_count": 4,
   "metadata": {},
   "outputs": [
    {
     "name": "stdout",
     "output_type": "stream",
     "text": [
      "{'base': 'stations',\n",
      " 'clouds': {'all': 90},\n",
      " 'cod': 200,\n",
      " 'coord': {'lat': 48.85, 'lon': 2.35},\n",
      " 'dt': 1579228690,\n",
      " 'id': 2988507,\n",
      " 'main': {'feels_like': 6.27,\n",
      "          'humidity': 76,\n",
      "          'pressure': 1016,\n",
      "          'temp': 10.63,\n",
      "          'temp_max': 11.67,\n",
      "          'temp_min': 10},\n",
      " 'name': 'Paris',\n",
      " 'sys': {'country': 'FR',\n",
      "         'id': 6550,\n",
      "         'sunrise': 1579246658,\n",
      "         'sunset': 1579278174,\n",
      "         'type': 1},\n",
      " 'timezone': 3600,\n",
      " 'visibility': 10000,\n",
      " 'weather': [{'description': 'overcast clouds',\n",
      "              'icon': '04n',\n",
      "              'id': 804,\n",
      "              'main': 'Clouds'}],\n",
      " 'wind': {'deg': 210, 'gust': 10.3, 'speed': 5.1}}\n"
     ]
    }
   ],
   "source": [
    "response = requests.get(query_url + \"Paris\").json()\n",
    "pprint(response)"
   ]
  },
  {
   "cell_type": "code",
   "execution_count": 21,
   "metadata": {},
   "outputs": [
    {
     "name": "stdout",
     "output_type": "stream",
     "text": [
      "Beginning Data Retrieval\n",
      "-----------------------------\n",
      "City not found. Skipping...\n",
      "Processing Record havoysund\n",
      "Processing Record werda\n",
      "Processing Record bluff\n",
      "Processing Record leh\n",
      "Processing Record albany\n",
      "Processing Record saint-augustin\n",
      "Processing Record puerto ayora\n",
      "Processing Record la libertad\n",
      "Processing Record busselton\n",
      "Processing Record cayenne\n",
      "Processing Record sao sebastiao\n",
      "Processing Record hermanus\n",
      "Processing Record luderitz\n",
      "Processing Record nikolskoye\n",
      "Processing Record jamestown\n",
      "Processing Record paamiut\n",
      "Processing Record dhidhdhoo\n",
      "Processing Record rikitea\n",
      "Processing Record kapaa\n",
      "Processing Record torbay\n",
      "Processing Record avarua\n",
      "Processing Record upernavik\n",
      "Processing Record sangar\n",
      "Processing Record tasiilaq\n",
      "Processing Record vaini\n",
      "Processing Record cidreira\n",
      "Processing Record kajaani\n",
      "City not found. Skipping...\n",
      "Processing Record maua\n",
      "Processing Record kununurra\n",
      "City not found. Skipping...\n",
      "Processing Record lorengau\n",
      "Processing Record bonavista\n",
      "Processing Record itambacuri\n",
      "Processing Record tarko-sale\n",
      "Processing Record hithadhoo\n",
      "Processing Record camana\n",
      "Processing Record surt\n",
      "Processing Record sinnamary\n",
      "Processing Record mataura\n",
      "Processing Record olafsvik\n",
      "Processing Record fortuna\n",
      "Processing Record khatanga\n",
      "Processing Record atuona\n",
      "Processing Record new norfolk\n",
      "City not found. Skipping...\n",
      "Processing Record ushuaia\n",
      "Processing Record vardo\n",
      "Processing Record port hedland\n",
      "Processing Record kutoarjo\n",
      "Processing Record lazaro cardenas\n",
      "Processing Record knyaginino\n",
      "Processing Record sept-iles\n",
      "Processing Record severo-kurilsk\n",
      "Processing Record cabo san lucas\n",
      "Processing Record athens\n",
      "Processing Record bethel\n",
      "Processing Record sandwick\n",
      "Processing Record tuatapere\n",
      "Processing Record san patricio\n",
      "Processing Record tiksi\n",
      "Processing Record tuktoyaktuk\n",
      "Processing Record faanui\n",
      "Processing Record pervomayskiy\n",
      "Processing Record qaanaaq\n",
      "Processing Record sao jose da coroa grande\n",
      "Processing Record souillac\n",
      "Processing Record punta arenas\n",
      "Processing Record aitape\n",
      "Processing Record pacific grove\n",
      "Processing Record vestmannaeyjar\n",
      "Processing Record airai\n",
      "Processing Record ruwi\n",
      "Processing Record arraial do cabo\n",
      "Processing Record shitanjing\n",
      "Processing Record chuy\n",
      "Processing Record bredasdorp\n",
      "Processing Record wangjing\n",
      "Processing Record yeppoon\n",
      "Processing Record katsuura\n",
      "Processing Record westport\n",
      "City not found. Skipping...\n",
      "Processing Record ucluelet\n",
      "Processing Record padang\n",
      "Processing Record yellowknife\n",
      "Processing Record dingle\n",
      "Processing Record melhus\n",
      "Processing Record kargasok\n",
      "Processing Record lasa\n",
      "City not found. Skipping...\n",
      "Processing Record verkh-chebula\n",
      "Processing Record castro\n",
      "Processing Record clyde river\n",
      "City not found. Skipping...\n",
      "Processing Record laje\n",
      "Processing Record port elizabeth\n",
      "Processing Record praya\n",
      "Processing Record hilo\n",
      "Processing Record creel\n",
      "Processing Record puerto maldonado\n",
      "City not found. Skipping...\n",
      "Processing Record longyearbyen\n",
      "Processing Record aleksandrov gay\n",
      "Processing Record acarau\n",
      "Processing Record berehomet\n",
      "Processing Record touros\n",
      "Processing Record provideniya\n",
      "Processing Record mizdah\n",
      "Processing Record east london\n",
      "Processing Record lompoc\n",
      "Processing Record aklavik\n",
      "Processing Record butaritari\n",
      "Processing Record buchanan\n",
      "Processing Record khuzhir\n",
      "City not found. Skipping...\n",
      "Processing Record chokurdakh\n",
      "Processing Record cardston\n",
      "Processing Record saint-philippe\n",
      "Processing Record rimouski\n",
      "Processing Record richards bay\n",
      "Processing Record claremorris\n",
      "Processing Record baracoa\n",
      "Processing Record bambous virieux\n",
      "Processing Record kapoeta\n",
      "Processing Record merrill\n",
      "Processing Record high level\n",
      "Processing Record ilulissat\n",
      "Processing Record beloha\n",
      "Processing Record dikson\n",
      "Processing Record lebu\n",
      "Processing Record waipawa\n",
      "Processing Record hobart\n",
      "Processing Record baymak\n",
      "Processing Record porto novo\n",
      "Processing Record talnakh\n",
      "Processing Record constitucion\n",
      "Processing Record kaputa\n",
      "Processing Record scottsbluff\n",
      "Processing Record krasnyy oktyabr\n",
      "Processing Record sao filipe\n",
      "Processing Record cape town\n",
      "Processing Record zhigansk\n",
      "City not found. Skipping...\n",
      "Processing Record pisco\n",
      "Processing Record berlevag\n",
      "Processing Record acapulco\n",
      "City not found. Skipping...\n",
      "Processing Record portland\n",
      "Processing Record sorong\n",
      "Processing Record manzanillo\n",
      "Processing Record vico equense\n",
      "Processing Record pevek\n",
      "Processing Record petropavlovskoye\n",
      "Processing Record villa carlos paz\n",
      "Processing Record barrow\n",
      "Processing Record saskylakh\n",
      "Processing Record klaksvik\n",
      "Processing Record chicama\n",
      "Processing Record dongsheng\n",
      "Processing Record tacoronte\n",
      "Processing Record neyshabur\n",
      "Processing Record necochea\n",
      "Processing Record griffith\n",
      "City not found. Skipping...\n",
      "Processing Record dniprovka\n",
      "Processing Record pipri\n",
      "Processing Record saint george\n",
      "Processing Record san quintin\n",
      "Processing Record mar del plata\n",
      "Processing Record alice springs\n",
      "Processing Record tena\n",
      "Processing Record khani\n",
      "Processing Record carnarvon\n",
      "Processing Record marawi\n",
      "Processing Record nadym\n",
      "Processing Record bridge city\n",
      "Processing Record fomboni\n",
      "Processing Record srednekolymsk\n",
      "Processing Record sambava\n",
      "Processing Record norman wells\n",
      "Processing Record erdenet\n",
      "Processing Record beyneu\n",
      "Processing Record houma\n",
      "Processing Record taoudenni\n",
      "Processing Record namatanai\n",
      "City not found. Skipping...\n",
      "Processing Record wanning\n",
      "Processing Record vadso\n",
      "Processing Record mahebourg\n",
      "City not found. Skipping...\n",
      "Processing Record cairns\n",
      "Processing Record ukiah\n",
      "Processing Record riviere-au-renard\n",
      "Processing Record cherskiy\n",
      "Processing Record margate\n",
      "Processing Record klamath falls\n",
      "Processing Record kommunisticheskiy\n",
      "Processing Record georgetown\n",
      "Processing Record honningsvag\n",
      "City not found. Skipping...\n",
      "City not found. Skipping...\n",
      "Processing Record sorland\n",
      "Processing Record podgornoye\n",
      "Processing Record trairi\n",
      "Processing Record avera\n",
      "Processing Record camiri\n",
      "Processing Record jiangyou\n",
      "Processing Record sioux lookout\n",
      "Processing Record shimoda\n",
      "Processing Record kourou\n",
      "Processing Record bubaque\n",
      "Processing Record iqaluit\n",
      "Processing Record asau\n",
      "Processing Record beringovskiy\n",
      "Processing Record ewa beach\n",
      "Processing Record san julian\n",
      "Processing Record anshun\n",
      "City not found. Skipping...\n",
      "Processing Record manisa\n",
      "Processing Record saldanha\n",
      "Processing Record kavieng\n",
      "Processing Record la paz\n",
      "Processing Record panlaitan\n",
      "Processing Record port alfred\n",
      "City not found. Skipping...\n",
      "Processing Record udachnyy\n",
      "Processing Record chute-aux-outardes\n",
      "Processing Record boo\n",
      "Processing Record soe\n",
      "City not found. Skipping...\n",
      "Processing Record lingao\n",
      "Processing Record fare\n",
      "Processing Record sharan\n",
      "Processing Record rabaul\n",
      "Processing Record codrington\n",
      "Processing Record nanortalik\n",
      "Processing Record bathsheba\n",
      "Processing Record kaitangata\n",
      "Processing Record arman\n",
      "Processing Record bajil\n",
      "Processing Record guymon\n",
      "Processing Record tubuala\n",
      "Processing Record praia\n",
      "Processing Record yangjiang\n",
      "Processing Record aykhal\n",
      "Processing Record northam\n",
      "Processing Record labuhan\n",
      "Processing Record huarmey\n",
      "Processing Record acquaviva\n",
      "Processing Record guerrero negro\n",
      "Processing Record jabalpur\n",
      "Processing Record matagami\n",
      "Processing Record haines junction\n",
      "Processing Record ajdabiya\n",
      "Processing Record denpasar\n",
      "Processing Record atar\n",
      "Processing Record ancud\n",
      "Processing Record bengkulu\n",
      "Processing Record shadegan\n",
      "Processing Record muyezerskiy\n",
      "Processing Record tanout\n",
      "Processing Record hovd\n",
      "Processing Record mulchen\n",
      "Processing Record tricase\n",
      "Processing Record flin flon\n",
      "Processing Record uthal\n",
      "Processing Record kendari\n",
      "Processing Record babakan\n",
      "Processing Record virginia beach\n",
      "Processing Record hambantota\n",
      "Processing Record cockburn town\n",
      "Processing Record ribeira grande\n",
      "Processing Record trapani\n",
      "Processing Record flinders\n",
      "Processing Record dongning\n",
      "Processing Record aksay\n",
      "Processing Record urcos\n",
      "Processing Record matamoros\n",
      "Processing Record cusco\n",
      "Processing Record vanderhoof\n",
      "Processing Record yaan\n",
      "Processing Record nangomba\n",
      "Processing Record ardesen\n",
      "Processing Record inuvik\n",
      "Processing Record thompson\n",
      "Processing Record parkes\n",
      "Processing Record mareeba\n",
      "Processing Record viedma\n",
      "Processing Record bracebridge\n",
      "Processing Record baturaja\n",
      "Processing Record amot\n",
      "Processing Record meulaboh\n",
      "Processing Record ponta do sol\n",
      "Processing Record toledo\n",
      "Processing Record kodiak\n",
      "Processing Record laguna\n",
      "Processing Record port lincoln\n"
     ]
    },
    {
     "name": "stdout",
     "output_type": "stream",
     "text": [
      "Processing Record egersund\n",
      "Processing Record lamar\n",
      "Processing Record shingu\n",
      "Processing Record caravelas\n",
      "Processing Record floro\n",
      "Processing Record pierre\n",
      "Processing Record natal\n",
      "City not found. Skipping...\n",
      "Processing Record yulin\n",
      "Processing Record geraldton\n",
      "Processing Record esperance\n",
      "Processing Record fort morgan\n",
      "Processing Record noumea\n",
      "Processing Record taicheng\n",
      "Processing Record manado\n",
      "Processing Record astros\n",
      "Processing Record victor harbor\n",
      "Processing Record batagay-alyta\n",
      "Processing Record vila franca do campo\n",
      "Processing Record kalmunai\n",
      "City not found. Skipping...\n",
      "Processing Record narsaq\n",
      "City not found. Skipping...\n",
      "Processing Record pouembout\n",
      "Processing Record mount isa\n",
      "Processing Record salinopolis\n",
      "Processing Record bestobe\n",
      "Processing Record la romana\n",
      "Processing Record pangnirtung\n",
      "City not found. Skipping...\n",
      "Processing Record ayan\n",
      "Processing Record lavrentiya\n",
      "Processing Record conceicao das alagoas\n",
      "Processing Record owensboro\n",
      "Processing Record vilyuysk\n",
      "Processing Record bardiyah\n",
      "Processing Record saint-pierre\n",
      "Processing Record akureyri\n",
      "Processing Record middelburg\n",
      "Processing Record dalbandin\n",
      "Processing Record sechura\n",
      "Processing Record beatrice\n",
      "Processing Record petrila\n",
      "Processing Record grand-lahou\n",
      "City not found. Skipping...\n",
      "Processing Record patnos\n",
      "Processing Record coquimbo\n",
      "Processing Record miraflores\n",
      "Processing Record amazar\n",
      "Processing Record americus\n",
      "Processing Record fethiye\n",
      "Processing Record savalou\n",
      "Processing Record sibolga\n",
      "Processing Record esparta\n",
      "Processing Record nome\n",
      "Processing Record emerald\n",
      "Processing Record rawson\n",
      "City not found. Skipping...\n",
      "Processing Record palampur\n",
      "Processing Record takaka\n",
      "Processing Record salalah\n",
      "Processing Record umm lajj\n",
      "Processing Record axim\n",
      "Processing Record aguimes\n",
      "Processing Record bensonville\n",
      "Processing Record russell\n",
      "Processing Record saiki\n",
      "City not found. Skipping...\n",
      "City not found. Skipping...\n",
      "Processing Record tahta\n",
      "Processing Record port-cartier\n",
      "Processing Record altamira\n",
      "Processing Record chenghai\n",
      "Processing Record nishihara\n",
      "Processing Record faya\n",
      "Processing Record awjilah\n",
      "Processing Record gibara\n",
      "Processing Record jalu\n",
      "Processing Record san cristobal\n",
      "Processing Record nandu\n",
      "Processing Record srivardhan\n",
      "City not found. Skipping...\n",
      "Processing Record saravan\n",
      "Processing Record shetpe\n",
      "Processing Record kelamangalam\n",
      "Processing Record saint marys\n",
      "Processing Record broome\n",
      "Processing Record ostrovnoy\n",
      "Processing Record quelimane\n",
      "Processing Record baruun-urt\n",
      "Processing Record vallenar\n",
      "Processing Record bowen\n",
      "Processing Record issenye\n",
      "Processing Record kirakira\n",
      "Processing Record pankovka\n",
      "Processing Record surin\n",
      "Processing Record khon buri\n",
      "Processing Record howard springs\n",
      "Processing Record victoria\n",
      "Processing Record coahuayana\n",
      "Processing Record tepetzintla\n",
      "Processing Record bairiki\n",
      "City not found. Skipping...\n",
      "Processing Record loudi\n",
      "Processing Record kieta\n",
      "Processing Record chunskiy\n",
      "Processing Record vanavara\n",
      "Processing Record mustasaari\n",
      "Processing Record jasper\n",
      "Processing Record batticaloa\n",
      "Processing Record puteyets\n",
      "City not found. Skipping...\n",
      "Processing Record la ronge\n",
      "Processing Record manadhoo\n",
      "Processing Record itarema\n",
      "Processing Record kruisfontein\n",
      "Processing Record giffnock\n",
      "Processing Record taybad\n",
      "Processing Record bondo\n",
      "City not found. Skipping...\n",
      "Processing Record port hardy\n",
      "Processing Record capinopolis\n",
      "Processing Record nouadhibou\n",
      "Processing Record urumqi\n",
      "Processing Record tura\n",
      "Processing Record lamu\n",
      "Processing Record trelew\n",
      "Processing Record karratha\n",
      "Processing Record antofagasta\n",
      "Processing Record duyun\n",
      "Processing Record ostersund\n",
      "Processing Record batagay\n",
      "Processing Record soyo\n",
      "Processing Record tazovskiy\n",
      "Processing Record bondoukou\n",
      "Processing Record moyale\n",
      "Processing Record zunyi\n",
      "Processing Record kristiansund\n",
      "Processing Record yar-sale\n",
      "Processing Record gushikawa\n",
      "Processing Record stornoway\n",
      "Processing Record kirksville\n",
      "Processing Record saint anthony\n",
      "Processing Record linhares\n",
      "Processing Record jyvaskyla\n",
      "City not found. Skipping...\n",
      "Processing Record barcelona\n",
      "Processing Record katete\n",
      "Processing Record glazov\n",
      "Processing Record troitskoye\n",
      "Processing Record awbari\n",
      "Processing Record karasjok\n",
      "Processing Record tankhoy\n",
      "Processing Record college\n",
      "Processing Record rio gallegos\n",
      "Processing Record coos bay\n",
      "Processing Record nizhniy odes\n",
      "Processing Record kasongo-lunda\n",
      "Processing Record troitsko-pechorsk\n",
      "Processing Record katima mulilo\n",
      "Processing Record mangit\n",
      "Processing Record polson\n",
      "Processing Record krasnyy chikoy\n",
      "Processing Record sitka\n",
      "Processing Record fairbanks\n",
      "Processing Record camacha\n",
      "Processing Record husavik\n",
      "City not found. Skipping...\n",
      "Processing Record turiacu\n",
      "Processing Record tromso\n",
      "Processing Record lidkoping\n",
      "Processing Record lydenburg\n",
      "Processing Record rio grande\n",
      "Processing Record wajima\n",
      "Processing Record odesskoye\n",
      "Processing Record brokopondo\n",
      "Processing Record la orilla\n",
      "Processing Record yerbogachen\n",
      "Processing Record tutoia\n",
      "Processing Record cacu\n",
      "Processing Record tsalka\n",
      "Processing Record maragogi\n",
      "Processing Record kangaatsiaq\n",
      "Processing Record cheremukhovo\n",
      "Processing Record santa rosa\n",
      "Processing Record chapais\n",
      "Processing Record lancaster\n",
      "Processing Record el carmen\n",
      "Processing Record hoquiam\n",
      "Processing Record port moresby\n",
      "Processing Record severomuysk\n",
      "Processing Record coihaique\n",
      "Processing Record okhotsk\n",
      "City not found. Skipping...\n",
      "Processing Record fushun\n",
      "Processing Record hirara\n",
      "Processing Record passo de camaragibe\n",
      "Processing Record tombouctou\n",
      "Processing Record sinaloa\n",
      "Processing Record camopi\n",
      "Processing Record kamenka\n",
      "Processing Record meadow lake\n",
      "Processing Record karakol\n",
      "Processing Record san pedro\n",
      "Processing Record lewistown\n",
      "Processing Record bintulu\n",
      "Processing Record kahului\n",
      "Processing Record alakurtti\n",
      "Processing Record tual\n",
      "Processing Record adrar\n",
      "Processing Record lugovoy\n",
      "Processing Record charyshskoye\n",
      "Processing Record hualmay\n",
      "Processing Record bukama\n",
      "Processing Record swan hill\n",
      "Processing Record aden\n",
      "Processing Record khasan\n",
      "Processing Record morondava\n",
      "Processing Record nioro\n",
      "Processing Record komsomolskiy\n",
      "Processing Record lalmohan\n",
      "Processing Record goderich\n",
      "Processing Record changji\n",
      "Processing Record kaohsiung\n",
      "Processing Record krasnoselkup\n",
      "Processing Record brigantine\n",
      "Processing Record novovoronezh\n",
      "Processing Record upata\n",
      "City not found. Skipping...\n",
      "Processing Record ambilobe\n",
      "Processing Record tagusao\n",
      "Processing Record talakan\n",
      "Processing Record sompeta\n",
      "Processing Record olga\n",
      "Processing Record shadrinsk\n",
      "Processing Record wamba\n",
      "Processing Record samarai\n",
      "City not found. Skipping...\n",
      "Processing Record seevetal\n",
      "Processing Record yerofey pavlovich\n",
      "Processing Record okha\n",
      "Processing Record raudeberg\n",
      "Processing Record kavaratti\n",
      "Processing Record buraydah\n",
      "Processing Record long xuyen\n",
      "City not found. Skipping...\n",
      "Processing Record belmonte\n",
      "Processing Record plyussa\n",
      "Processing Record namibe\n",
      "Processing Record ntchisi\n",
      "Processing Record grand gaube\n",
      "Processing Record palencia\n",
      "City not found. Skipping...\n",
      "Processing Record homer\n",
      "Processing Record sao francisco de assis\n",
      "Processing Record mandurah\n",
      "Processing Record melville\n",
      "City not found. Skipping...\n",
      "Processing Record tucupita\n",
      "City not found. Skipping...\n",
      "Processing Record aripuana\n",
      "Processing Record campoverde\n",
      "Processing Record xining\n",
      "Processing Record biak\n",
      "Processing Record pirogovo\n",
      "Processing Record antalaha\n",
      "Processing Record ulaangom\n",
      "Processing Record tonj\n",
      "Processing Record vrises\n",
      "Processing Record la cruz\n",
      "Processing Record forest park\n",
      "Processing Record alexandria\n",
      "Processing Record javanrud\n",
      "Processing Record mazara del vallo\n",
      "Processing Record andros town\n",
      "Processing Record santo domingo\n",
      "Processing Record mutare\n",
      "Processing Record rawah\n",
      "Processing Record waingapu\n",
      "Processing Record schwaz\n",
      "Processing Record gwembe\n",
      "Processing Record hamilton\n",
      "Processing Record socorro\n",
      "Processing Record waddan\n",
      "Processing Record abonnema\n",
      "City not found. Skipping...\n",
      "Processing Record gladstone\n",
      "Processing Record tarakan\n",
      "Processing Record diffa\n",
      "Processing Record port hawkesbury\n",
      "Processing Record tucuru\n",
      "Processing Record bay roberts\n",
      "Processing Record isangel\n",
      "Processing Record poya\n",
      "Processing Record santa cruz\n",
      "City not found. Skipping...\n",
      "Processing Record naliya\n",
      "Processing Record broken hill\n",
      "Processing Record rumonge\n",
      "Processing Record ca mau\n",
      "Processing Record birin\n"
     ]
    },
    {
     "name": "stdout",
     "output_type": "stream",
     "text": [
      "City not found. Skipping...\n",
      "Processing Record grindavik\n",
      "Processing Record tamiahua\n",
      "Processing Record morros\n",
      "Processing Record abalak\n",
      "Processing Record mus\n",
      "City not found. Skipping...\n",
      "City not found. Skipping...\n",
      "Processing Record wattegama\n",
      "Processing Record ovsyanka\n",
      "Processing Record maldonado\n",
      "Processing Record koundara\n",
      "Processing Record pitimbu\n"
     ]
    }
   ],
   "source": [
    "Cloudiness = []\n",
    "Country = []\n",
    "Date = []\n",
    "Humidity = []\n",
    "lat = []\n",
    "Lng = []\n",
    "Max_Temp = []\n",
    "Wind_Speed = []\n",
    "\n",
    "print(\"Beginning Data Retrieval\")     \n",
    "print(\"-----------------------------\")\n",
    "for city in cities:\n",
    "    response = requests.get(query_url + city).json()\n",
    "    try:\n",
    "        lat.append(response['coord']['lat'])\n",
    "        Max_Temp.append(response['main']['temp_max'])\n",
    "        Date.append(response['dt'])\n",
    "        Lng.append(response['coord']['lon'])\n",
    "        Humidity.append(response['main']['humidity'])\n",
    "        Country.append(response['sys']['country'])\n",
    "        Cloudiness.append(response['clouds']['all'])\n",
    "        Wind_Speed.append(response['wind']['speed'])\n",
    "        \n",
    "        print(f\"Processing Record {city}\")\n",
    "    except :\n",
    "        print(f\"City not found. Skipping...\")\n",
    "    time.sleep(1)\n",
    "\n"
   ]
  },
  {
   "cell_type": "markdown",
   "metadata": {},
   "source": [
    "### Convert Raw Data to DataFrame\n",
    "* Export the city data into a .csv.\n",
    "* Display the DataFrame"
   ]
  },
  {
   "cell_type": "code",
   "execution_count": 26,
   "metadata": {},
   "outputs": [
    {
     "data": {
      "text/plain": [
       "612"
      ]
     },
     "execution_count": 26,
     "metadata": {},
     "output_type": "execute_result"
    }
   ],
   "source": [
    "len(cities)"
   ]
  },
  {
   "cell_type": "code",
   "execution_count": 55,
   "metadata": {},
   "outputs": [
    {
     "data": {
      "text/html": [
       "<div>\n",
       "<style scoped>\n",
       "    .dataframe tbody tr th:only-of-type {\n",
       "        vertical-align: middle;\n",
       "    }\n",
       "\n",
       "    .dataframe tbody tr th {\n",
       "        vertical-align: top;\n",
       "    }\n",
       "\n",
       "    .dataframe thead th {\n",
       "        text-align: right;\n",
       "    }\n",
       "</style>\n",
       "<table border=\"1\" class=\"dataframe\">\n",
       "  <thead>\n",
       "    <tr style=\"text-align: right;\">\n",
       "      <th></th>\n",
       "      <th>City</th>\n",
       "      <th>Cloudiness</th>\n",
       "      <th>Country</th>\n",
       "      <th>Date</th>\n",
       "      <th>Humidity</th>\n",
       "      <th>Lat</th>\n",
       "      <th>Lng</th>\n",
       "      <th>Max Temp</th>\n",
       "      <th>Wind Speed</th>\n",
       "    </tr>\n",
       "  </thead>\n",
       "  <tbody>\n",
       "    <tr>\n",
       "      <th>0</th>\n",
       "      <td>tsihombe</td>\n",
       "      <td>20</td>\n",
       "      <td>NO</td>\n",
       "      <td>1970-01-01 00:00:01.579273061</td>\n",
       "      <td>67</td>\n",
       "      <td>71.00</td>\n",
       "      <td>24.66</td>\n",
       "      <td>-6.00</td>\n",
       "      <td>0.50</td>\n",
       "    </tr>\n",
       "    <tr>\n",
       "      <th>1</th>\n",
       "      <td>havoysund</td>\n",
       "      <td>100</td>\n",
       "      <td>BW</td>\n",
       "      <td>1970-01-01 00:00:01.579273249</td>\n",
       "      <td>26</td>\n",
       "      <td>-25.27</td>\n",
       "      <td>23.28</td>\n",
       "      <td>28.54</td>\n",
       "      <td>8.69</td>\n",
       "    </tr>\n",
       "    <tr>\n",
       "      <th>2</th>\n",
       "      <td>werda</td>\n",
       "      <td>100</td>\n",
       "      <td>NZ</td>\n",
       "      <td>1970-01-01 00:00:01.579273250</td>\n",
       "      <td>92</td>\n",
       "      <td>-46.60</td>\n",
       "      <td>168.33</td>\n",
       "      <td>13.33</td>\n",
       "      <td>0.89</td>\n",
       "    </tr>\n",
       "    <tr>\n",
       "      <th>3</th>\n",
       "      <td>bluff</td>\n",
       "      <td>100</td>\n",
       "      <td>IN</td>\n",
       "      <td>1970-01-01 00:00:01.579273252</td>\n",
       "      <td>79</td>\n",
       "      <td>34.17</td>\n",
       "      <td>77.58</td>\n",
       "      <td>-20.37</td>\n",
       "      <td>1.40</td>\n",
       "    </tr>\n",
       "    <tr>\n",
       "      <th>4</th>\n",
       "      <td>leh</td>\n",
       "      <td>75</td>\n",
       "      <td>US</td>\n",
       "      <td>1970-01-01 00:00:01.579273244</td>\n",
       "      <td>55</td>\n",
       "      <td>42.60</td>\n",
       "      <td>-73.97</td>\n",
       "      <td>-9.44</td>\n",
       "      <td>4.60</td>\n",
       "    </tr>\n",
       "    <tr>\n",
       "      <th>...</th>\n",
       "      <td>...</td>\n",
       "      <td>...</td>\n",
       "      <td>...</td>\n",
       "      <td>...</td>\n",
       "      <td>...</td>\n",
       "      <td>...</td>\n",
       "      <td>...</td>\n",
       "      <td>...</td>\n",
       "      <td>...</td>\n",
       "    </tr>\n",
       "    <tr>\n",
       "      <th>562</th>\n",
       "      <td>pirogovo</td>\n",
       "      <td>40</td>\n",
       "      <td>LK</td>\n",
       "      <td>1970-01-01 00:00:01.579275885</td>\n",
       "      <td>100</td>\n",
       "      <td>6.80</td>\n",
       "      <td>81.48</td>\n",
       "      <td>25.00</td>\n",
       "      <td>1.50</td>\n",
       "    </tr>\n",
       "    <tr>\n",
       "      <th>563</th>\n",
       "      <td>antalaha</td>\n",
       "      <td>75</td>\n",
       "      <td>RU</td>\n",
       "      <td>1970-01-01 00:00:01.579275886</td>\n",
       "      <td>79</td>\n",
       "      <td>55.96</td>\n",
       "      <td>92.55</td>\n",
       "      <td>-6.00</td>\n",
       "      <td>5.00</td>\n",
       "    </tr>\n",
       "    <tr>\n",
       "      <th>564</th>\n",
       "      <td>ulaangom</td>\n",
       "      <td>0</td>\n",
       "      <td>UY</td>\n",
       "      <td>1970-01-01 00:00:01.579275866</td>\n",
       "      <td>46</td>\n",
       "      <td>-34.67</td>\n",
       "      <td>-54.92</td>\n",
       "      <td>22.00</td>\n",
       "      <td>5.10</td>\n",
       "    </tr>\n",
       "    <tr>\n",
       "      <th>565</th>\n",
       "      <td>tonj</td>\n",
       "      <td>0</td>\n",
       "      <td>GN</td>\n",
       "      <td>1970-01-01 00:00:01.579275889</td>\n",
       "      <td>5</td>\n",
       "      <td>12.48</td>\n",
       "      <td>-13.30</td>\n",
       "      <td>38.00</td>\n",
       "      <td>2.67</td>\n",
       "    </tr>\n",
       "    <tr>\n",
       "      <th>566</th>\n",
       "      <td>vrises</td>\n",
       "      <td>75</td>\n",
       "      <td>BR</td>\n",
       "      <td>1970-01-01 00:00:01.579275890</td>\n",
       "      <td>58</td>\n",
       "      <td>-7.47</td>\n",
       "      <td>-34.81</td>\n",
       "      <td>31.00</td>\n",
       "      <td>6.70</td>\n",
       "    </tr>\n",
       "  </tbody>\n",
       "</table>\n",
       "<p>567 rows × 9 columns</p>\n",
       "</div>"
      ],
      "text/plain": [
       "          City  Cloudiness Country                          Date  Humidity  \\\n",
       "0     tsihombe          20      NO 1970-01-01 00:00:01.579273061        67   \n",
       "1    havoysund         100      BW 1970-01-01 00:00:01.579273249        26   \n",
       "2        werda         100      NZ 1970-01-01 00:00:01.579273250        92   \n",
       "3        bluff         100      IN 1970-01-01 00:00:01.579273252        79   \n",
       "4          leh          75      US 1970-01-01 00:00:01.579273244        55   \n",
       "..         ...         ...     ...                           ...       ...   \n",
       "562   pirogovo          40      LK 1970-01-01 00:00:01.579275885       100   \n",
       "563   antalaha          75      RU 1970-01-01 00:00:01.579275886        79   \n",
       "564   ulaangom           0      UY 1970-01-01 00:00:01.579275866        46   \n",
       "565       tonj           0      GN 1970-01-01 00:00:01.579275889         5   \n",
       "566     vrises          75      BR 1970-01-01 00:00:01.579275890        58   \n",
       "\n",
       "       Lat     Lng  Max Temp  Wind Speed  \n",
       "0    71.00   24.66     -6.00        0.50  \n",
       "1   -25.27   23.28     28.54        8.69  \n",
       "2   -46.60  168.33     13.33        0.89  \n",
       "3    34.17   77.58    -20.37        1.40  \n",
       "4    42.60  -73.97     -9.44        4.60  \n",
       "..     ...     ...       ...         ...  \n",
       "562   6.80   81.48     25.00        1.50  \n",
       "563  55.96   92.55     -6.00        5.00  \n",
       "564 -34.67  -54.92     22.00        5.10  \n",
       "565  12.48  -13.30     38.00        2.67  \n",
       "566  -7.47  -34.81     31.00        6.70  \n",
       "\n",
       "[567 rows x 9 columns]"
      ]
     },
     "execution_count": 55,
     "metadata": {},
     "output_type": "execute_result"
    }
   ],
   "source": [
    "city_stats = pd.DataFrame({\n",
    "    \"City\": cities[0:567],\n",
    "    \"Cloudiness\": Cloudiness,\n",
    "    \"Country\": Country, \n",
    "    \"Date\": Date,\n",
    "    \"Humidity\": Humidity,\n",
    "    \"Lat\": lat,\n",
    "    \"Lng\": Lng,\n",
    "    \"Max Temp\": Max_Temp,\n",
    "    \"Wind Speed\": Wind_Speed\n",
    "})\n",
    "city_stats [\"Date\"] =  pd.to_datetime(city_stats [\"Date\"])\n",
    "city_stats"
   ]
  },
  {
   "cell_type": "code",
   "execution_count": 78,
   "metadata": {},
   "outputs": [],
   "source": [
    "city_stats.to_csv('city_stats.csv',index = False)"
   ]
  },
  {
   "cell_type": "markdown",
   "metadata": {},
   "source": [
    "### Plotting the Data\n",
    "* Use proper labeling of the plots using plot titles (including date of analysis) and axes labels.\n",
    "* Save the plotted figures as .pngs."
   ]
  },
  {
   "cell_type": "markdown",
   "metadata": {},
   "source": [
    "#### Latitude vs. Temperature Plot"
   ]
  },
  {
   "cell_type": "code",
   "execution_count": 51,
   "metadata": {
    "scrolled": true
   },
   "outputs": [
    {
     "data": {
      "image/png": "[encoded data removed]",
      "text/plain": [
       "<Figure size 432x288 with 1 Axes>"
      ]
     },
     "metadata": {
      "needs_background": "light"
     },
     "output_type": "display_data"
    },
    {
     "data": {
      "text/plain": [
       "<Figure size 432x288 with 0 Axes>"
      ]
     },
     "metadata": {},
     "output_type": "display_data"
    }
   ],
   "source": [
    "x_values = city_stats['Lat'].astype('float')\n",
    "y_values = city_stats['Max Temp'].astype('float')\n",
    "\n",
    "# Plot scatter plot\n",
    "plt.scatter(x_values,y_values)\n",
    "\n",
    "# Label plot\n",
    "plt.xlabel('Latitude')\n",
    "plt.ylabel('Temperatures')\n",
    "plt.title('City Latitude vs Max Temperature')\n",
    "\n",
    "\n",
    "# Show plot\n",
    "plt.show()\n",
    "plt.savefig('LatvMaxTemp_plot.png')"
   ]
  },
  {
   "cell_type": "markdown",
   "metadata": {},
   "source": [
    "#### Latitude vs. Humidity Plot"
   ]
  },
  {
   "cell_type": "code",
   "execution_count": 42,
   "metadata": {},
   "outputs": [
    {
     "data": {
      "image/png": "[encoded data removed]",
      "text/plain": [
       "<Figure size 432x288 with 1 Axes>"
      ]
     },
     "metadata": {
      "needs_background": "light"
     },
     "output_type": "display_data"
    }
   ],
   "source": [
    "x_values = city_stats['Lat'].astype('float')\n",
    "y_values = city_stats['Humidity'].astype('float')\n",
    "\n",
    "\n",
    "# Plot scatter plot\n",
    "plt.scatter(x_values,y_values)\n",
    "\n",
    "# Label plot\n",
    "plt.xlabel('Latitude')\n",
    "plt.ylabel('Humidity')\n",
    "plt.title('City Latitude vs Humidity')\n",
    "\n",
    "\n",
    "# Show plot\n",
    "plt.show()\n",
    "plt.savefig('LatvHumidity_plot.png')"
   ]
  },
  {
   "cell_type": "markdown",
   "metadata": {},
   "source": [
    "#### Latitude vs. Cloudiness Plot"
   ]
  },
  {
   "cell_type": "code",
   "execution_count": 41,
   "metadata": {},
   "outputs": [
    {
     "data": {
      "image/png": "[encoded data removed]",
      "text/plain": [
       "<Figure size 432x288 with 1 Axes>"
      ]
     },
     "metadata": {
      "needs_background": "light"
     },
     "output_type": "display_data"
    }
   ],
   "source": [
    "x_values = city_stats['Lat'].astype('float')\n",
    "y_values = city_stats['Cloudiness'].astype('float')\n",
    "\n",
    "\n",
    "# Plot scatter plot\n",
    "plt.scatter(x_values,y_values)\n",
    "\n",
    "\n",
    "# Label plot\n",
    "plt.xlabel('Lat')\n",
    "plt.ylabel('Cloudiness')\n",
    "plt.title('City Latitude vs Cloudiness')\n",
    "\n",
    "\n",
    "# Show plot\n",
    "plt.show()\n",
    "plt.savefig('LatvCloudiness_plot.png')"
   ]
  },
  {
   "cell_type": "markdown",
   "metadata": {},
   "source": [
    "#### Latitude vs. Wind Speed Plot"
   ]
  },
  {
   "cell_type": "code",
   "execution_count": 40,
   "metadata": {},
   "outputs": [
    {
     "data": {
      "image/png": "[encoded data removed]",
      "text/plain": [
       "<Figure size 432x288 with 1 Axes>"
      ]
     },
     "metadata": {
      "needs_background": "light"
     },
     "output_type": "display_data"
    }
   ],
   "source": [
    "x_values = city_stats['Lat'].astype('float')\n",
    "y_values = city_stats['Wind Speed'].astype('float')\n",
    "\n",
    "\n",
    "# Plot scatter plot\n",
    "plt.scatter(x_values,y_values)\n",
    "\n",
    "# Label plot\n",
    "plt.xlabel('Latitude')\n",
    "plt.ylabel('Wind Speed')\n",
    "plt.title('City Latitude vs Wind Speed')\n",
    "\n",
    "\n",
    "# Show plot\n",
    "plt.show()\n",
    "plt.savefig('LatvWindSpeed_plot.png')"
   ]
  },
  {
   "cell_type": "markdown",
   "metadata": {},
   "source": [
    "## Linear Regression"
   ]
  },
  {
   "cell_type": "code",
   "execution_count": 108,
   "metadata": {},
   "outputs": [],
   "source": [
    "# OPTIONAL: Create a function to create Linear Regression plots\n"
   ]
  },
  {
   "cell_type": "code",
   "execution_count": 65,
   "metadata": {},
   "outputs": [],
   "source": [
    "# Create Northern and Southern Hemisphere DataFrames\n",
    "\n",
    "NHcity_stats = city_stats.loc[city_stats [\"Lat\"] >=0, :]\n",
    "SHcity_stats = city_stats.loc[city_stats[\"Lat\"]<0, :]"
   ]
  },
  {
   "cell_type": "markdown",
   "metadata": {},
   "source": [
    "####  Northern Hemisphere - Max Temp vs. Latitude Linear Regression"
   ]
  },
  {
   "cell_type": "code",
   "execution_count": 61,
   "metadata": {},
   "outputs": [
    {
     "name": "stdout",
     "output_type": "stream",
     "text": [
      "R squard: -0.8552839446120728\n"
     ]
    },
    {
     "data": {
      "image/png": "[encoded data removed]",
      "text/plain": [
       "<Figure size 432x288 with 1 Axes>"
      ]
     },
     "metadata": {
      "needs_background": "light"
     },
     "output_type": "display_data"
    }
   ],
   "source": [
    "x_values = NHcity_stats['Max Temp'].astype('float')\n",
    "y_values = NHcity_stats['Lat'].astype('float')\n",
    "\n",
    "# Run linear regression\n",
    "(slope, intercept, rvalue, pvalue, stderr) = linregress(x_values, y_values)\n",
    "regress_values = x_values * slope + intercept\n",
    "line_eq = \"y = \" + str(round(slope,2)) + \"x + \" + str(round(intercept,2))\n",
    "\n",
    "# Plot scatter plot\n",
    "plt.scatter(x_values,y_values)\n",
    "\n",
    "# Plot regression line\n",
    "plt.plot(x_values,regress_values,\"r-\")\n",
    "plt.annotate(line_eq,(6,10),fontsize=15,color=\"red\")\n",
    "\n",
    "# Label plot\n",
    "plt.xlabel('Max Temp')\n",
    "plt.ylabel('Lat')\n",
    "plt.title('Max Temp vs Latitude Northern Hemisphere')\n",
    "\n",
    "# Print r square value\n",
    "print(f\"R squard: {rvalue}\")\n",
    "\n",
    "# Show plot\n",
    "plt.show()\n",
    "plt.savefig('MaxTempvsLatNHplot.png')"
   ]
  },
  {
   "cell_type": "markdown",
   "metadata": {},
   "source": [
    "####  Southern Hemisphere - Max Temp vs. Latitude Linear Regression"
   ]
  },
  {
   "cell_type": "code",
   "execution_count": 66,
   "metadata": {},
   "outputs": [
    {
     "name": "stdout",
     "output_type": "stream",
     "text": [
      "R squard: 0.5127388646334053\n"
     ]
    },
    {
     "data": {
      "image/png": "[encoded data removed]",
      "text/plain": [
       "<Figure size 432x288 with 1 Axes>"
      ]
     },
     "metadata": {
      "needs_background": "light"
     },
     "output_type": "display_data"
    }
   ],
   "source": [
    "x_values = SHcity_stats['Max Temp'].astype('float')\n",
    "y_values = SHcity_stats['Lat'].astype('float')\n",
    "\n",
    "# Run linear regression\n",
    "(slope, intercept, rvalue, pvalue, stderr) = linregress(x_values, y_values)\n",
    "regress_values = x_values * slope + intercept\n",
    "line_eq = \"y = \" + str(round(slope,2)) + \"x + \" + str(round(intercept,2))\n",
    "\n",
    "# Plot scatter plot\n",
    "plt.scatter(x_values,y_values)\n",
    "\n",
    "# Plot regression line\n",
    "plt.plot(x_values,regress_values,\"r-\")\n",
    "plt.annotate(line_eq,(6,10),fontsize=15,color=\"red\")\n",
    "\n",
    "# Label plot\n",
    "plt.xlabel('Max Temp')\n",
    "plt.ylabel('Lat')\n",
    "plt.title('Max Temp vs Latitude Southern Hemisphere')\n",
    "\n",
    "# Print r square value\n",
    "print(f\"R squard: {rvalue}\")\n",
    "\n",
    "# Show plot\n",
    "plt.show()\n",
    "plt.savefig('MaxTempvsLatSHplot.png')"
   ]
  },
  {
   "cell_type": "markdown",
   "metadata": {},
   "source": [
    "####  Northern Hemisphere - Humidity (%) vs. Latitude Linear Regression"
   ]
  },
  {
   "cell_type": "code",
   "execution_count": 68,
   "metadata": {},
   "outputs": [
    {
     "name": "stdout",
     "output_type": "stream",
     "text": [
      "R squard: 0.383239498597392\n"
     ]
    },
    {
     "data": {
      "image/png": "[encoded data removed]",
      "text/plain": [
       "<Figure size 432x288 with 1 Axes>"
      ]
     },
     "metadata": {
      "needs_background": "light"
     },
     "output_type": "display_data"
    }
   ],
   "source": [
    "x_values = NHcity_stats['Humidity'].astype('float')\n",
    "y_values = NHcity_stats['Lat'].astype('float')\n",
    "\n",
    "# Run linear regression\n",
    "(slope, intercept, rvalue, pvalue, stderr) = linregress(x_values, y_values)\n",
    "regress_values = x_values * slope + intercept\n",
    "line_eq = \"y = \" + str(round(slope,2)) + \"x + \" + str(round(intercept,2))\n",
    "\n",
    "# Plot scatter plot\n",
    "plt.scatter(x_values,y_values)\n",
    "\n",
    "# Plot regression line\n",
    "plt.plot(x_values,regress_values,\"r-\")\n",
    "plt.annotate(line_eq,(6,10),fontsize=15,color=\"red\")\n",
    "\n",
    "# Label plot\n",
    "plt.xlabel('Humidity')\n",
    "plt.ylabel('Lat')\n",
    "plt.title('Humidity vs Latitude Northern Hemisphere')\n",
    "\n",
    "# Print r square value\n",
    "print(f\"R squard: {rvalue}\")\n",
    "\n",
    "# Show plot\n",
    "plt.show()\n",
    "plt.savefig('HumidityvsLatNHplot.png')"
   ]
  },
  {
   "cell_type": "markdown",
   "metadata": {},
   "source": [
    "####  Southern Hemisphere - Humidity (%) vs. Latitude Linear Regression"
   ]
  },
  {
   "cell_type": "code",
   "execution_count": 69,
   "metadata": {},
   "outputs": [
    {
     "name": "stdout",
     "output_type": "stream",
     "text": [
      "R squard: 0.28215592516420035\n"
     ]
    },
    {
     "data": {
      "image/png": "[encoded data removed]",
      "text/plain": [
       "<Figure size 432x288 with 1 Axes>"
      ]
     },
     "metadata": {
      "needs_background": "light"
     },
     "output_type": "display_data"
    }
   ],
   "source": [
    "x_values = SHcity_stats['Humidity'].astype('float')\n",
    "y_values = SHcity_stats['Lat'].astype('float')\n",
    "\n",
    "# Run linear regression\n",
    "(slope, intercept, rvalue, pvalue, stderr) = linregress(x_values, y_values)\n",
    "regress_values = x_values * slope + intercept\n",
    "line_eq = \"y = \" + str(round(slope,2)) + \"x + \" + str(round(intercept,2))\n",
    "\n",
    "# Plot scatter plot\n",
    "plt.scatter(x_values,y_values)\n",
    "\n",
    "# Plot regression line\n",
    "plt.plot(x_values,regress_values,\"r-\")\n",
    "plt.annotate(line_eq,(6,10),fontsize=15,color=\"red\")\n",
    "\n",
    "# Label plot\n",
    "plt.xlabel('Max Temp')\n",
    "plt.ylabel('Lat')\n",
    "plt.title('Max Temp vs Humidity Southern Hemisphere')\n",
    "\n",
    "# Print r square value\n",
    "print(f\"R squard: {rvalue}\")\n",
    "\n",
    "# Show plot\n",
    "plt.show()\n",
    "plt.savefig('HumidityvsLatSHplot.png')"
   ]
  },
  {
   "cell_type": "markdown",
   "metadata": {},
   "source": [
    "####  Northern Hemisphere - Cloudiness (%) vs. Latitude Linear Regression"
   ]
  },
  {
   "cell_type": "code",
   "execution_count": 70,
   "metadata": {},
   "outputs": [
    {
     "name": "stdout",
     "output_type": "stream",
     "text": [
      "R squard: 0.2678885400252407\n"
     ]
    },
    {
     "data": {
      "image/png": "[encoded data removed]",
      "text/plain": [
       "<Figure size 432x288 with 1 Axes>"
      ]
     },
     "metadata": {
      "needs_background": "light"
     },
     "output_type": "display_data"
    }
   ],
   "source": [
    "x_values = NHcity_stats['Cloudiness'].astype('float')\n",
    "y_values = NHcity_stats['Lat'].astype('float')\n",
    "\n",
    "# Run linear regression\n",
    "(slope, intercept, rvalue, pvalue, stderr) = linregress(x_values, y_values)\n",
    "regress_values = x_values * slope + intercept\n",
    "line_eq = \"y = \" + str(round(slope,2)) + \"x + \" + str(round(intercept,2))\n",
    "\n",
    "# Plot scatter plot\n",
    "plt.scatter(x_values,y_values)\n",
    "\n",
    "# Plot regression line\n",
    "plt.plot(x_values,regress_values,\"r-\")\n",
    "plt.annotate(line_eq,(6,10),fontsize=15,color=\"red\")\n",
    "\n",
    "# Label plot\n",
    "plt.xlabel('Cloudiness')\n",
    "plt.ylabel('Lat')\n",
    "plt.title('Cloudiness vs Latitude Northern Hemisphere')\n",
    "\n",
    "# Print r square value\n",
    "print(f\"R squard: {rvalue}\")\n",
    "\n",
    "# Show plot\n",
    "plt.show()\n",
    "plt.savefig('CloudinessvsLatNHplot.png')"
   ]
  },
  {
   "cell_type": "markdown",
   "metadata": {},
   "source": [
    "####  Southern Hemisphere - Cloudiness (%) vs. Latitude Linear Regression"
   ]
  },
  {
   "cell_type": "code",
   "execution_count": 71,
   "metadata": {},
   "outputs": [
    {
     "name": "stdout",
     "output_type": "stream",
     "text": [
      "R squard: 0.34231941887224004\n"
     ]
    },
    {
     "data": {
      "image/png": "[encoded data removed]",
      "text/plain": [
       "<Figure size 432x288 with 1 Axes>"
      ]
     },
     "metadata": {
      "needs_background": "light"
     },
     "output_type": "display_data"
    }
   ],
   "source": [
    "x_values = SHcity_stats['Cloudiness'].astype('float')\n",
    "y_values = SHcity_stats['Lat'].astype('float')\n",
    "\n",
    "# Run linear regression\n",
    "(slope, intercept, rvalue, pvalue, stderr) = linregress(x_values, y_values)\n",
    "regress_values = x_values * slope + intercept\n",
    "line_eq = \"y = \" + str(round(slope,2)) + \"x + \" + str(round(intercept,2))\n",
    "\n",
    "# Plot scatter plot\n",
    "plt.scatter(x_values,y_values)\n",
    "\n",
    "# Plot regression line\n",
    "plt.plot(x_values,regress_values,\"r-\")\n",
    "plt.annotate(line_eq,(6,10),fontsize=15,color=\"red\")\n",
    "\n",
    "# Label plot\n",
    "plt.xlabel('Cloudiness')\n",
    "plt.ylabel('Lat')\n",
    "plt.title('Cloudiness vs Latitude Southern Hemisphere')\n",
    "\n",
    "# Print r square value\n",
    "print(f\"R squard: {rvalue}\")\n",
    "\n",
    "# Show plot\n",
    "plt.show()\n",
    "plt.savefig('CloudinessvsLatSHplot.png')"
   ]
  },
  {
   "cell_type": "markdown",
   "metadata": {},
   "source": [
    "####  Northern Hemisphere - Wind Speed (mph) vs. Latitude Linear Regression"
   ]
  },
  {
   "cell_type": "code",
   "execution_count": 72,
   "metadata": {},
   "outputs": [
    {
     "name": "stdout",
     "output_type": "stream",
     "text": [
      "R squard: 0.0687528368234725\n"
     ]
    },
    {
     "data": {
      "image/png": "[encoded data removed]",
      "text/plain": [
       "<Figure size 432x288 with 1 Axes>"
      ]
     },
     "metadata": {
      "needs_background": "light"
     },
     "output_type": "display_data"
    }
   ],
   "source": [
    "x_values = NHcity_stats['Wind Speed'].astype('float')\n",
    "y_values = NHcity_stats['Lat'].astype('float')\n",
    "\n",
    "# Run linear regression\n",
    "(slope, intercept, rvalue, pvalue, stderr) = linregress(x_values, y_values)\n",
    "regress_values = x_values * slope + intercept\n",
    "line_eq = \"y = \" + str(round(slope,2)) + \"x + \" + str(round(intercept,2))\n",
    "\n",
    "# Plot scatter plot\n",
    "plt.scatter(x_values,y_values)\n",
    "\n",
    "# Plot regression line\n",
    "plt.plot(x_values,regress_values,\"r-\")\n",
    "plt.annotate(line_eq,(6,10),fontsize=15,color=\"red\")\n",
    "\n",
    "# Label plot\n",
    "plt.xlabel('Wind Speed')\n",
    "plt.ylabel('Lat')\n",
    "plt.title('Wind Speed mph vs Latitude Northern Hemisphere')\n",
    "\n",
    "# Print r square value\n",
    "print(f\"R squard: {rvalue}\")\n",
    "\n",
    "# Show plot\n",
    "plt.show()\n",
    "plt.savefig('WSvsLatNHplot.png')"
   ]
  },
  {
   "cell_type": "markdown",
   "metadata": {},
   "source": [
    "####  Southern Hemisphere - Wind Speed (mph) vs. Latitude Linear Regression"
   ]
  },
  {
   "cell_type": "code",
   "execution_count": 73,
   "metadata": {},
   "outputs": [
    {
     "name": "stdout",
     "output_type": "stream",
     "text": [
      "R squard: -0.16405572607269803\n"
     ]
    },
    {
     "data": {
      "image/png": "[encoded data removed]",
      "text/plain": [
       "<Figure size 432x288 with 1 Axes>"
      ]
     },
     "metadata": {
      "needs_background": "light"
     },
     "output_type": "display_data"
    }
   ],
   "source": [
    "x_values = SHcity_stats['Wind Speed'].astype('float')\n",
    "y_values = SHcity_stats['Lat'].astype('float')\n",
    "\n",
    "# Run linear regression\n",
    "(slope, intercept, rvalue, pvalue, stderr) = linregress(x_values, y_values)\n",
    "regress_values = x_values * slope + intercept\n",
    "line_eq = \"y = \" + str(round(slope,2)) + \"x + \" + str(round(intercept,2))\n",
    "\n",
    "# Plot scatter plot\n",
    "plt.scatter(x_values,y_values)\n",
    "\n",
    "# Plot regression line\n",
    "plt.plot(x_values,regress_values,\"r-\")\n",
    "plt.annotate(line_eq,(6,10),fontsize=15,color=\"red\")\n",
    "\n",
    "# Label plot\n",
    "plt.xlabel('Wind Speed')\n",
    "plt.ylabel('Lat')\n",
    "plt.title('Wind Speed mph vs Latitude Southern Hemisphere')\n",
    "\n",
    "# Print r square value\n",
    "print(f\"R squard: {rvalue}\")\n",
    "\n",
    "# Show plot\n",
    "plt.show()\n",
    "plt.savefig('WSvsLatSHplot.png')"
   ]
  }
 ],
 "metadata": {
  "anaconda-cloud": {},
  "kernel_info": {
   "name": "python3"
  },
  "kernelspec": {
   "display_name": "Python 3",
   "language": "python",
   "name": "python3"
  },
  "language_info": {
   "codemirror_mode": {
    "name": "ipython",
    "version": 3
   },
   "file_extension": ".py",
   "mimetype": "text/x-python",
   "name": "python",
   "nbconvert_exporter": "python",
   "pygments_lexer": "ipython3",
   "version": "3.7.6"
  },
  "latex_envs": {
   "LaTeX_envs_menu_present": true,
   "autoclose": false,
   "autocomplete": true,
   "bibliofile": "biblio.bib",
   "cite_by": "apalike",
   "current_citInitial": 1,
   "eqLabelWithNumbers": true,
   "eqNumInitial": 1,
   "hotkeys": {
    "equation": "Ctrl-E",
    "itemize": "Ctrl-I"
   },
   "labels_anchors": false,
   "latex_user_defs": false,
   "report_style_numbering": false,
   "user_envs_cfg": false
  },
  "nteract": {
   "version": "0.12.3"
  }
 },
 "nbformat": 4,
 "nbformat_minor": 2
}
